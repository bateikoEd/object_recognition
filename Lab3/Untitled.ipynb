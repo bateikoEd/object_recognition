{
 "cells": [
  {
   "cell_type": "markdown",
   "metadata": {},
   "source": [
    "# <a href='https://machinelearningmastery.com/how-to-load-and-manipulate-images-for-deep-learning-in-python-with-pil-pillow/'> SOURCE </a> "
   ]
  },
  {
   "cell_type": "markdown",
   "metadata": {},
   "source": [
    "# Prepared Data"
   ]
  },
  {
   "cell_type": "code",
   "execution_count": 1,
   "metadata": {},
   "outputs": [],
   "source": [
    "import pandas as pd\n",
    "import numpy as np\n",
    "import matplotlib.pyplot as plt\n",
    "import seaborn as sns\n"
   ]
  },
  {
   "cell_type": "code",
   "execution_count": 2,
   "metadata": {
    "scrolled": true
   },
   "outputs": [],
   "source": [
    "file_name_json_sift = 'test_dump/test_lintroller_sift.json'\n",
    "file_name_json_akaze = 'test_dump/test_lintroller_akaze.json'\n",
    "file_name_label = '../Lab2/excel_files/lintroller_test.xlsx'\n",
    "\n",
    "metrices_sift = pd.read_json(file_name_json_sift)\n",
    "metrices_akaze = pd.read_json(file_name_json_akaze)\n",
    "df_labels_lintroller = pd.read_excel(file_name_label)"
   ]
  },
  {
   "cell_type": "code",
   "execution_count": 3,
   "metadata": {},
   "outputs": [],
   "source": [
    "metrices_akaze.image_name = list(map(lambda x: x[:-4], metrices_akaze.image_name))\n",
    "metrices_sift.image_name = list(map(lambda x: x[:-4], metrices_sift.image_name))\n",
    "\n",
    "metrices_sift = metrices_sift.drop(['ratio', 'pixels'], axis=1)\n",
    "df_labels_lintroller = df_labels_lintroller.rename(columns={'Name': 'image_name'})"
   ]
  },
  {
   "cell_type": "code",
   "execution_count": null,
   "metadata": {},
   "outputs": [],
   "source": []
  },
  {
   "cell_type": "code",
   "execution_count": 4,
   "metadata": {
    "scrolled": true
   },
   "outputs": [
    {
     "name": "stdout",
     "output_type": "stream",
     "text": [
      "metrix_lintroller_sift:\t(49, 5)\n",
      "metrix_lintroller_akaze:\t(49, 7)\n",
      "df_labels_lintroller:\t(49, 2)\n"
     ]
    }
   ],
   "source": [
    "print(f'metrix_lintroller_sift:\\t{metrices_sift.shape}')\n",
    "print(f'metrix_lintroller_akaze:\\t{metrices_akaze.shape}')\n",
    "print(f'df_labels_lintroller:\\t{df_labels_lintroller.shape}')"
   ]
  },
  {
   "cell_type": "code",
   "execution_count": 5,
   "metadata": {},
   "outputs": [
    {
     "data": {
      "text/html": [
       "<div>\n",
       "<style scoped>\n",
       "    .dataframe tbody tr th:only-of-type {\n",
       "        vertical-align: middle;\n",
       "    }\n",
       "\n",
       "    .dataframe tbody tr th {\n",
       "        vertical-align: top;\n",
       "    }\n",
       "\n",
       "    .dataframe thead th {\n",
       "        text-align: right;\n",
       "    }\n",
       "</style>\n",
       "<table border=\"1\" class=\"dataframe\">\n",
       "  <thead>\n",
       "    <tr style=\"text-align: right;\">\n",
       "      <th></th>\n",
       "      <th>image_name</th>\n",
       "      <th>thread_time_sift</th>\n",
       "      <th>matches_good_ratio_sift</th>\n",
       "      <th>localization_error_l1_mean_sift</th>\n",
       "      <th>localization_error_l2_mean_sift</th>\n",
       "    </tr>\n",
       "  </thead>\n",
       "  <tbody>\n",
       "    <tr>\n",
       "      <th>0</th>\n",
       "      <td>lintroller_100</td>\n",
       "      <td>0.184128</td>\n",
       "      <td>0.019629</td>\n",
       "      <td>17.003141</td>\n",
       "      <td>577.539496</td>\n",
       "    </tr>\n",
       "    <tr>\n",
       "      <th>1</th>\n",
       "      <td>lintroller_131</td>\n",
       "      <td>0.025408</td>\n",
       "      <td>0.020720</td>\n",
       "      <td>21.093363</td>\n",
       "      <td>838.015177</td>\n",
       "    </tr>\n",
       "    <tr>\n",
       "      <th>2</th>\n",
       "      <td>lintroller_132</td>\n",
       "      <td>0.021550</td>\n",
       "      <td>0.038168</td>\n",
       "      <td>34.651307</td>\n",
       "      <td>2202.841015</td>\n",
       "    </tr>\n",
       "    <tr>\n",
       "      <th>3</th>\n",
       "      <td>lintroller_133</td>\n",
       "      <td>0.021624</td>\n",
       "      <td>0.029444</td>\n",
       "      <td>24.703148</td>\n",
       "      <td>1196.868673</td>\n",
       "    </tr>\n",
       "    <tr>\n",
       "      <th>4</th>\n",
       "      <td>lintroller_134</td>\n",
       "      <td>0.026095</td>\n",
       "      <td>0.014177</td>\n",
       "      <td>19.087922</td>\n",
       "      <td>674.691577</td>\n",
       "    </tr>\n",
       "  </tbody>\n",
       "</table>\n",
       "</div>"
      ],
      "text/plain": [
       "       image_name  thread_time_sift  matches_good_ratio_sift  \\\n",
       "0  lintroller_100          0.184128                 0.019629   \n",
       "1  lintroller_131          0.025408                 0.020720   \n",
       "2  lintroller_132          0.021550                 0.038168   \n",
       "3  lintroller_133          0.021624                 0.029444   \n",
       "4  lintroller_134          0.026095                 0.014177   \n",
       "\n",
       "   localization_error_l1_mean_sift  localization_error_l2_mean_sift  \n",
       "0                        17.003141                       577.539496  \n",
       "1                        21.093363                       838.015177  \n",
       "2                        34.651307                      2202.841015  \n",
       "3                        24.703148                      1196.868673  \n",
       "4                        19.087922                       674.691577  "
      ]
     },
     "execution_count": 5,
     "metadata": {},
     "output_type": "execute_result"
    }
   ],
   "source": [
    "metrices_sift.head()"
   ]
  },
  {
   "cell_type": "code",
   "execution_count": 6,
   "metadata": {},
   "outputs": [
    {
     "data": {
      "text/html": [
       "<div>\n",
       "<style scoped>\n",
       "    .dataframe tbody tr th:only-of-type {\n",
       "        vertical-align: middle;\n",
       "    }\n",
       "\n",
       "    .dataframe tbody tr th {\n",
       "        vertical-align: top;\n",
       "    }\n",
       "\n",
       "    .dataframe thead th {\n",
       "        text-align: right;\n",
       "    }\n",
       "</style>\n",
       "<table border=\"1\" class=\"dataframe\">\n",
       "  <thead>\n",
       "    <tr style=\"text-align: right;\">\n",
       "      <th></th>\n",
       "      <th>image_name</th>\n",
       "      <th>ratio</th>\n",
       "      <th>pixels</th>\n",
       "      <th>thread_time_akaze</th>\n",
       "      <th>matches_good_ratio_akaze</th>\n",
       "      <th>localization_error_l1_mean_akaze</th>\n",
       "      <th>localization_error_l2_mean_akaze</th>\n",
       "      <th>thread_time_sift</th>\n",
       "      <th>matches_good_ratio_sift</th>\n",
       "      <th>localization_error_l1_mean_sift</th>\n",
       "      <th>localization_error_l2_mean_sift</th>\n",
       "    </tr>\n",
       "  </thead>\n",
       "  <tbody>\n",
       "    <tr>\n",
       "      <th>0</th>\n",
       "      <td>lintroller_100</td>\n",
       "      <td>0.75</td>\n",
       "      <td>983040</td>\n",
       "      <td>0.117644</td>\n",
       "      <td>0.006061</td>\n",
       "      <td>6.721212</td>\n",
       "      <td>83.381818</td>\n",
       "      <td>0.184128</td>\n",
       "      <td>0.019629</td>\n",
       "      <td>17.003141</td>\n",
       "      <td>577.539496</td>\n",
       "    </tr>\n",
       "    <tr>\n",
       "      <th>1</th>\n",
       "      <td>lintroller_131</td>\n",
       "      <td>0.75</td>\n",
       "      <td>76800</td>\n",
       "      <td>0.024179</td>\n",
       "      <td>0.018182</td>\n",
       "      <td>9.687879</td>\n",
       "      <td>163.906061</td>\n",
       "      <td>0.025408</td>\n",
       "      <td>0.020720</td>\n",
       "      <td>21.093363</td>\n",
       "      <td>838.015177</td>\n",
       "    </tr>\n",
       "    <tr>\n",
       "      <th>2</th>\n",
       "      <td>lintroller_132</td>\n",
       "      <td>0.75</td>\n",
       "      <td>76800</td>\n",
       "      <td>0.022589</td>\n",
       "      <td>0.021212</td>\n",
       "      <td>12.715152</td>\n",
       "      <td>252.793939</td>\n",
       "      <td>0.021550</td>\n",
       "      <td>0.038168</td>\n",
       "      <td>34.651307</td>\n",
       "      <td>2202.841015</td>\n",
       "    </tr>\n",
       "    <tr>\n",
       "      <th>3</th>\n",
       "      <td>lintroller_133</td>\n",
       "      <td>0.75</td>\n",
       "      <td>76800</td>\n",
       "      <td>0.027272</td>\n",
       "      <td>0.018182</td>\n",
       "      <td>10.451515</td>\n",
       "      <td>201.627273</td>\n",
       "      <td>0.021624</td>\n",
       "      <td>0.029444</td>\n",
       "      <td>24.703148</td>\n",
       "      <td>1196.868673</td>\n",
       "    </tr>\n",
       "    <tr>\n",
       "      <th>4</th>\n",
       "      <td>lintroller_134</td>\n",
       "      <td>0.75</td>\n",
       "      <td>76800</td>\n",
       "      <td>0.023213</td>\n",
       "      <td>0.024242</td>\n",
       "      <td>9.551515</td>\n",
       "      <td>165.539394</td>\n",
       "      <td>0.026095</td>\n",
       "      <td>0.014177</td>\n",
       "      <td>19.087922</td>\n",
       "      <td>674.691577</td>\n",
       "    </tr>\n",
       "  </tbody>\n",
       "</table>\n",
       "</div>"
      ],
      "text/plain": [
       "       image_name  ratio  pixels  thread_time_akaze  matches_good_ratio_akaze  \\\n",
       "0  lintroller_100   0.75  983040           0.117644                  0.006061   \n",
       "1  lintroller_131   0.75   76800           0.024179                  0.018182   \n",
       "2  lintroller_132   0.75   76800           0.022589                  0.021212   \n",
       "3  lintroller_133   0.75   76800           0.027272                  0.018182   \n",
       "4  lintroller_134   0.75   76800           0.023213                  0.024242   \n",
       "\n",
       "   localization_error_l1_mean_akaze  localization_error_l2_mean_akaze  \\\n",
       "0                          6.721212                         83.381818   \n",
       "1                          9.687879                        163.906061   \n",
       "2                         12.715152                        252.793939   \n",
       "3                         10.451515                        201.627273   \n",
       "4                          9.551515                        165.539394   \n",
       "\n",
       "   thread_time_sift  matches_good_ratio_sift  localization_error_l1_mean_sift  \\\n",
       "0          0.184128                 0.019629                        17.003141   \n",
       "1          0.025408                 0.020720                        21.093363   \n",
       "2          0.021550                 0.038168                        34.651307   \n",
       "3          0.021624                 0.029444                        24.703148   \n",
       "4          0.026095                 0.014177                        19.087922   \n",
       "\n",
       "   localization_error_l2_mean_sift  \n",
       "0                       577.539496  \n",
       "1                       838.015177  \n",
       "2                      2202.841015  \n",
       "3                      1196.868673  \n",
       "4                       674.691577  "
      ]
     },
     "execution_count": 6,
     "metadata": {},
     "output_type": "execute_result"
    }
   ],
   "source": [
    "train_without_labels = pd.merge(metrices_akaze, metrices_sift, on='image_name')\n",
    "train_without_labels.head()"
   ]
  },
  {
   "cell_type": "code",
   "execution_count": 7,
   "metadata": {
    "scrolled": true
   },
   "outputs": [
    {
     "data": {
      "text/html": [
       "<div>\n",
       "<style scoped>\n",
       "    .dataframe tbody tr th:only-of-type {\n",
       "        vertical-align: middle;\n",
       "    }\n",
       "\n",
       "    .dataframe tbody tr th {\n",
       "        vertical-align: top;\n",
       "    }\n",
       "\n",
       "    .dataframe thead th {\n",
       "        text-align: right;\n",
       "    }\n",
       "</style>\n",
       "<table border=\"1\" class=\"dataframe\">\n",
       "  <thead>\n",
       "    <tr style=\"text-align: right;\">\n",
       "      <th></th>\n",
       "      <th>image_name</th>\n",
       "      <th>ratio</th>\n",
       "      <th>pixels</th>\n",
       "      <th>thread_time_akaze</th>\n",
       "      <th>matches_good_ratio_akaze</th>\n",
       "      <th>localization_error_l1_mean_akaze</th>\n",
       "      <th>localization_error_l2_mean_akaze</th>\n",
       "      <th>thread_time_sift</th>\n",
       "      <th>matches_good_ratio_sift</th>\n",
       "      <th>localization_error_l1_mean_sift</th>\n",
       "      <th>localization_error_l2_mean_sift</th>\n",
       "      <th>bool</th>\n",
       "    </tr>\n",
       "  </thead>\n",
       "  <tbody>\n",
       "    <tr>\n",
       "      <th>0</th>\n",
       "      <td>lintroller_100</td>\n",
       "      <td>0.75</td>\n",
       "      <td>983040</td>\n",
       "      <td>0.117644</td>\n",
       "      <td>0.006061</td>\n",
       "      <td>6.721212</td>\n",
       "      <td>83.381818</td>\n",
       "      <td>0.184128</td>\n",
       "      <td>0.019629</td>\n",
       "      <td>17.003141</td>\n",
       "      <td>577.539496</td>\n",
       "      <td>1</td>\n",
       "    </tr>\n",
       "    <tr>\n",
       "      <th>1</th>\n",
       "      <td>lintroller_131</td>\n",
       "      <td>0.75</td>\n",
       "      <td>76800</td>\n",
       "      <td>0.024179</td>\n",
       "      <td>0.018182</td>\n",
       "      <td>9.687879</td>\n",
       "      <td>163.906061</td>\n",
       "      <td>0.025408</td>\n",
       "      <td>0.020720</td>\n",
       "      <td>21.093363</td>\n",
       "      <td>838.015177</td>\n",
       "      <td>1</td>\n",
       "    </tr>\n",
       "    <tr>\n",
       "      <th>2</th>\n",
       "      <td>lintroller_132</td>\n",
       "      <td>0.75</td>\n",
       "      <td>76800</td>\n",
       "      <td>0.022589</td>\n",
       "      <td>0.021212</td>\n",
       "      <td>12.715152</td>\n",
       "      <td>252.793939</td>\n",
       "      <td>0.021550</td>\n",
       "      <td>0.038168</td>\n",
       "      <td>34.651307</td>\n",
       "      <td>2202.841015</td>\n",
       "      <td>1</td>\n",
       "    </tr>\n",
       "    <tr>\n",
       "      <th>3</th>\n",
       "      <td>lintroller_133</td>\n",
       "      <td>0.75</td>\n",
       "      <td>76800</td>\n",
       "      <td>0.027272</td>\n",
       "      <td>0.018182</td>\n",
       "      <td>10.451515</td>\n",
       "      <td>201.627273</td>\n",
       "      <td>0.021624</td>\n",
       "      <td>0.029444</td>\n",
       "      <td>24.703148</td>\n",
       "      <td>1196.868673</td>\n",
       "      <td>1</td>\n",
       "    </tr>\n",
       "    <tr>\n",
       "      <th>4</th>\n",
       "      <td>lintroller_134</td>\n",
       "      <td>0.75</td>\n",
       "      <td>76800</td>\n",
       "      <td>0.023213</td>\n",
       "      <td>0.024242</td>\n",
       "      <td>9.551515</td>\n",
       "      <td>165.539394</td>\n",
       "      <td>0.026095</td>\n",
       "      <td>0.014177</td>\n",
       "      <td>19.087922</td>\n",
       "      <td>674.691577</td>\n",
       "      <td>1</td>\n",
       "    </tr>\n",
       "  </tbody>\n",
       "</table>\n",
       "</div>"
      ],
      "text/plain": [
       "       image_name  ratio  pixels  thread_time_akaze  matches_good_ratio_akaze  \\\n",
       "0  lintroller_100   0.75  983040           0.117644                  0.006061   \n",
       "1  lintroller_131   0.75   76800           0.024179                  0.018182   \n",
       "2  lintroller_132   0.75   76800           0.022589                  0.021212   \n",
       "3  lintroller_133   0.75   76800           0.027272                  0.018182   \n",
       "4  lintroller_134   0.75   76800           0.023213                  0.024242   \n",
       "\n",
       "   localization_error_l1_mean_akaze  localization_error_l2_mean_akaze  \\\n",
       "0                          6.721212                         83.381818   \n",
       "1                          9.687879                        163.906061   \n",
       "2                         12.715152                        252.793939   \n",
       "3                         10.451515                        201.627273   \n",
       "4                          9.551515                        165.539394   \n",
       "\n",
       "   thread_time_sift  matches_good_ratio_sift  localization_error_l1_mean_sift  \\\n",
       "0          0.184128                 0.019629                        17.003141   \n",
       "1          0.025408                 0.020720                        21.093363   \n",
       "2          0.021550                 0.038168                        34.651307   \n",
       "3          0.021624                 0.029444                        24.703148   \n",
       "4          0.026095                 0.014177                        19.087922   \n",
       "\n",
       "   localization_error_l2_mean_sift  bool  \n",
       "0                       577.539496     1  \n",
       "1                       838.015177     1  \n",
       "2                      2202.841015     1  \n",
       "3                      1196.868673     1  \n",
       "4                       674.691577     1  "
      ]
     },
     "execution_count": 7,
     "metadata": {},
     "output_type": "execute_result"
    }
   ],
   "source": [
    "train_with_labels = pd.merge(train_without_labels, df_labels_lintroller, on='image_name') \n",
    "train_with_labels.head()"
   ]
  },
  {
   "cell_type": "code",
   "execution_count": 8,
   "metadata": {},
   "outputs": [],
   "source": [
    "train_with_labels = train_with_labels.drop(['image_name'], axis=1)"
   ]
  },
  {
   "cell_type": "code",
   "execution_count": 9,
   "metadata": {},
   "outputs": [
    {
     "data": {
      "image/png": "[encoded data removed]",
      "text/plain": [
       "<Figure size 792x792 with 2 Axes>"
      ]
     },
     "metadata": {
      "needs_background": "light"
     },
     "output_type": "display_data"
    }
   ],
   "source": [
    "correlation = train_with_labels.corr()\n",
    "\n",
    "features_counts = len(train_with_labels.columns)\n",
    "\n",
    "mask = np.zeros_like(correlation, dtype=np.bool)\n",
    "mask[np.triu_indices_from(mask)] = True\n",
    "\n",
    "f, ax = plt.subplots(figsize=(features_counts, features_counts))\n",
    "\n",
    "cmap = sns.diverging_palette(200, 20, as_cmap=True)\n",
    "sns.heatmap(correlation, mask=mask, cmap=cmap, vmax=1, vmin=-1, center=0, square=True, linewidths=.5,cbar_kws={'shrink': .5}, annot=True)\n",
    "\n",
    "plt.show()"
   ]
  },
  {
   "cell_type": "code",
   "execution_count": 10,
   "metadata": {},
   "outputs": [
    {
     "data": {
      "image/png": "[encoded data removed]",
      "text/plain": [
       "<Figure size 432x288 with 1 Axes>"
      ]
     },
     "metadata": {
      "needs_background": "light"
     },
     "output_type": "display_data"
    }
   ],
   "source": [
    "sns.countplot(train_with_labels['bool'], label='Sum')\n",
    "plt.show()"
   ]
  },
  {
   "cell_type": "code",
   "execution_count": 17,
   "metadata": {},
   "outputs": [],
   "source": [
    "X_train = train_with_labels.drop(['bool'], axis=1)\n",
    "y_train = train_with_labels['bool']"
   ]
  },
  {
   "cell_type": "code",
   "execution_count": 38,
   "metadata": {},
   "outputs": [
    {
     "data": {
      "text/plain": [
       "(35, 10)"
      ]
     },
     "execution_count": 38,
     "metadata": {},
     "output_type": "execute_result"
    }
   ],
   "source": [
    "X_train.shape"
   ]
  },
  {
   "cell_type": "markdown",
   "metadata": {},
   "source": [
    "# Create models"
   ]
  },
  {
   "cell_type": "code",
   "execution_count": 11,
   "metadata": {},
   "outputs": [],
   "source": [
    "from sklearn.ensemble import RandomForestClassifier\n",
    "from sklearn.linear_model import LogisticRegression\n",
    "from sklearn.tree import DecisionTreeClassifier\n",
    "from sklearn.neighbors import KNeighborsClassifier\n",
    "from sklearn.naive_bayes import GaussianNB\n",
    "from sklearn.model_selection import train_test_split, cross_val_score, StratifiedKFold, GridSearchCV\n",
    "from sklearn.metrics import confusion_matrix, classification_report, \\\n",
    "                            roc_auc_score , accuracy_score, precision_score\n",
    "\n",
    "from xgboost import XGBClassifier"
   ]
  },
  {
   "cell_type": "code",
   "execution_count": 27,
   "metadata": {},
   "outputs": [],
   "source": [
    "models = []\n",
    "models.append(('LR', LogisticRegression(solver='saga', penalty='l1', class_weight=\"balanced\")))\n",
    "models.append(('KNN', KNeighborsClassifier()))\n",
    "models.append(('DecTree', DecisionTreeClassifier())) \n",
    "models.append(('RF', RandomForestClassifier(n_estimators = 3))) \n",
    "models.append(('XGB', XGBClassifier()))\n",
    "models.append(('GaussianNB', GaussianNB()))"
   ]
  },
  {
   "cell_type": "code",
   "execution_count": 28,
   "metadata": {},
   "outputs": [],
   "source": [
    "mod_list = []\n",
    "for mod , _ in models:\n",
    "    mod_list.append(mod)\n",
    "\n",
    "mod_list.append('Cleaning')\n",
    "\n",
    "df_boxplot = pd.DataFrame(columns=['Score', 'ML'])"
   ]
  },
  {
   "cell_type": "code",
   "execution_count": 31,
   "metadata": {},
   "outputs": [],
   "source": [
    "def get_score_for_model():\n",
    "    seed = 13\n",
    "\n",
    "    results = []\n",
    "    names = []\n",
    "    scoring = 'accuracy'\n",
    "\n",
    "    for name, model in models:\n",
    "        strat = StratifiedKFold(n_splits=3, random_state=seed)\n",
    "\n",
    "        cv_results = cross_val_score(model, X_train, y_train, cv=strat, scoring=scoring, n_jobs=-1)\n",
    "\n",
    "        results.append(cv_results)\n",
    "        names.append(name)\n",
    "\n",
    "        print(f\"{name}: {cv_results.mean()} ({cv_results.std()})\")\n",
    "        \n",
    "    return results"
   ]
  },
  {
   "cell_type": "code",
   "execution_count": 32,
   "metadata": {},
   "outputs": [
    {
     "name": "stdout",
     "output_type": "stream",
     "text": [
      "LR: 0.6136363636363636 (0.37118635243480286)\n",
      "KNN: 0.8863636363636364 (0.03762541521654376)\n",
      "DecTree: 0.8308080808080809 (0.06497313298115456)\n",
      "RF: 0.8863636363636364 (0.03762541521654376)\n",
      "XGB: 0.8863636363636364 (0.03762541521654376)\n",
      "GaussianNB: 0.6590909090909091 (0.17680374812337676)\n"
     ]
    },
    {
     "name": "stderr",
     "output_type": "stream",
     "text": [
      "/home/eduard/anaconda3/envs/ml_coursera/lib/python3.7/site-packages/sklearn/model_selection/_split.py:297: FutureWarning: Setting a random_state has no effect since shuffle is False. This will raise an error in 0.24. You should leave random_state to its default (None), or set shuffle=True.\n",
      "  FutureWarning\n",
      "/home/eduard/anaconda3/envs/ml_coursera/lib/python3.7/site-packages/sklearn/model_selection/_split.py:297: FutureWarning: Setting a random_state has no effect since shuffle is False. This will raise an error in 0.24. You should leave random_state to its default (None), or set shuffle=True.\n",
      "  FutureWarning\n",
      "/home/eduard/anaconda3/envs/ml_coursera/lib/python3.7/site-packages/sklearn/model_selection/_split.py:297: FutureWarning: Setting a random_state has no effect since shuffle is False. This will raise an error in 0.24. You should leave random_state to its default (None), or set shuffle=True.\n",
      "  FutureWarning\n",
      "/home/eduard/anaconda3/envs/ml_coursera/lib/python3.7/site-packages/sklearn/model_selection/_split.py:297: FutureWarning: Setting a random_state has no effect since shuffle is False. This will raise an error in 0.24. You should leave random_state to its default (None), or set shuffle=True.\n",
      "  FutureWarning\n",
      "/home/eduard/anaconda3/envs/ml_coursera/lib/python3.7/site-packages/sklearn/model_selection/_split.py:297: FutureWarning: Setting a random_state has no effect since shuffle is False. This will raise an error in 0.24. You should leave random_state to its default (None), or set shuffle=True.\n",
      "  FutureWarning\n",
      "/home/eduard/anaconda3/envs/ml_coursera/lib/python3.7/site-packages/sklearn/model_selection/_split.py:297: FutureWarning: Setting a random_state has no effect since shuffle is False. This will raise an error in 0.24. You should leave random_state to its default (None), or set shuffle=True.\n",
      "  FutureWarning\n"
     ]
    }
   ],
   "source": [
    "results = get_score_for_model()"
   ]
  },
  {
   "cell_type": "code",
   "execution_count": 34,
   "metadata": {},
   "outputs": [],
   "source": [
    "def append_res_to_boxplot(results, df):\n",
    "    i = 0\n",
    "    while i < len(results[0]):\n",
    "        line = []\n",
    "        for num, ml in zip(results, mod_list): \n",
    "            line.append([num[i],ml])\n",
    "\n",
    "        i = i+1\n",
    "        df = df.append(pd.DataFrame(line, columns=['Score', 'ML']),ignore_index=True)\n",
    "    return df"
   ]
  },
  {
   "cell_type": "code",
   "execution_count": 35,
   "metadata": {
    "scrolled": true
   },
   "outputs": [
    {
     "data": {
      "text/html": [
       "<div>\n",
       "<style scoped>\n",
       "    .dataframe tbody tr th:only-of-type {\n",
       "        vertical-align: middle;\n",
       "    }\n",
       "\n",
       "    .dataframe tbody tr th {\n",
       "        vertical-align: top;\n",
       "    }\n",
       "\n",
       "    .dataframe thead th {\n",
       "        text-align: right;\n",
       "    }\n",
       "</style>\n",
       "<table border=\"1\" class=\"dataframe\">\n",
       "  <thead>\n",
       "    <tr style=\"text-align: right;\">\n",
       "      <th></th>\n",
       "      <th>Score</th>\n",
       "      <th>ML</th>\n",
       "    </tr>\n",
       "  </thead>\n",
       "  <tbody>\n",
       "    <tr>\n",
       "      <th>0</th>\n",
       "      <td>0.916667</td>\n",
       "      <td>LR</td>\n",
       "    </tr>\n",
       "    <tr>\n",
       "      <th>1</th>\n",
       "      <td>0.916667</td>\n",
       "      <td>KNN</td>\n",
       "    </tr>\n",
       "    <tr>\n",
       "      <th>2</th>\n",
       "      <td>0.750000</td>\n",
       "      <td>DecTree</td>\n",
       "    </tr>\n",
       "    <tr>\n",
       "      <th>3</th>\n",
       "      <td>0.916667</td>\n",
       "      <td>RF</td>\n",
       "    </tr>\n",
       "    <tr>\n",
       "      <th>4</th>\n",
       "      <td>0.916667</td>\n",
       "      <td>XGB</td>\n",
       "    </tr>\n",
       "    <tr>\n",
       "      <th>5</th>\n",
       "      <td>0.416667</td>\n",
       "      <td>GaussianNB</td>\n",
       "    </tr>\n",
       "    <tr>\n",
       "      <th>6</th>\n",
       "      <td>0.833333</td>\n",
       "      <td>LR</td>\n",
       "    </tr>\n",
       "    <tr>\n",
       "      <th>7</th>\n",
       "      <td>0.833333</td>\n",
       "      <td>KNN</td>\n",
       "    </tr>\n",
       "    <tr>\n",
       "      <th>8</th>\n",
       "      <td>0.833333</td>\n",
       "      <td>DecTree</td>\n",
       "    </tr>\n",
       "    <tr>\n",
       "      <th>9</th>\n",
       "      <td>0.833333</td>\n",
       "      <td>RF</td>\n",
       "    </tr>\n",
       "    <tr>\n",
       "      <th>10</th>\n",
       "      <td>0.833333</td>\n",
       "      <td>XGB</td>\n",
       "    </tr>\n",
       "    <tr>\n",
       "      <th>11</th>\n",
       "      <td>0.833333</td>\n",
       "      <td>GaussianNB</td>\n",
       "    </tr>\n",
       "    <tr>\n",
       "      <th>12</th>\n",
       "      <td>0.090909</td>\n",
       "      <td>LR</td>\n",
       "    </tr>\n",
       "    <tr>\n",
       "      <th>13</th>\n",
       "      <td>0.909091</td>\n",
       "      <td>KNN</td>\n",
       "    </tr>\n",
       "    <tr>\n",
       "      <th>14</th>\n",
       "      <td>0.909091</td>\n",
       "      <td>DecTree</td>\n",
       "    </tr>\n",
       "    <tr>\n",
       "      <th>15</th>\n",
       "      <td>0.909091</td>\n",
       "      <td>RF</td>\n",
       "    </tr>\n",
       "    <tr>\n",
       "      <th>16</th>\n",
       "      <td>0.909091</td>\n",
       "      <td>XGB</td>\n",
       "    </tr>\n",
       "    <tr>\n",
       "      <th>17</th>\n",
       "      <td>0.727273</td>\n",
       "      <td>GaussianNB</td>\n",
       "    </tr>\n",
       "  </tbody>\n",
       "</table>\n",
       "</div>"
      ],
      "text/plain": [
       "       Score          ML\n",
       "0   0.916667          LR\n",
       "1   0.916667         KNN\n",
       "2   0.750000     DecTree\n",
       "3   0.916667          RF\n",
       "4   0.916667         XGB\n",
       "5   0.416667  GaussianNB\n",
       "6   0.833333          LR\n",
       "7   0.833333         KNN\n",
       "8   0.833333     DecTree\n",
       "9   0.833333          RF\n",
       "10  0.833333         XGB\n",
       "11  0.833333  GaussianNB\n",
       "12  0.090909          LR\n",
       "13  0.909091         KNN\n",
       "14  0.909091     DecTree\n",
       "15  0.909091          RF\n",
       "16  0.909091         XGB\n",
       "17  0.727273  GaussianNB"
      ]
     },
     "execution_count": 35,
     "metadata": {},
     "output_type": "execute_result"
    }
   ],
   "source": [
    "df_boxplot = append_res_to_boxplot(results, df_boxplot)\n",
    "df_boxplot"
   ]
  },
  {
   "cell_type": "code",
   "execution_count": 36,
   "metadata": {},
   "outputs": [
    {
     "data": {
      "image/png": "[encoded data removed]",
      "text/plain": [
       "<Figure size 864x504 with 1 Axes>"
      ]
     },
     "metadata": {
      "needs_background": "light"
     },
     "output_type": "display_data"
    }
   ],
   "source": [
    "# Plotting the results \n",
    "plt.figure(figsize=(12,7))\n",
    "plt.title(\"Cross-validation 'roc_auc' score and various NAs cleaning approaches, Roc_Auc score\")\n",
    "sns.boxplot(data = df_boxplot, x = 'ML',y='Score');"
   ]
  },
  {
   "cell_type": "code",
   "execution_count": null,
   "metadata": {},
   "outputs": [],
   "source": []
  },
  {
   "cell_type": "code",
   "execution_count": null,
   "metadata": {},
   "outputs": [],
   "source": []
  }
 ],
 "metadata": {
  "kernelspec": {
   "display_name": "ml_coursera",
   "language": "python",
   "name": "ml_coursera"
  },
  "language_info": {
   "codemirror_mode": {
    "name": "ipython",
    "version": 3
   },
   "file_extension": ".py",
   "mimetype": "text/x-python",
   "name": "python",
   "nbconvert_exporter": "python",
   "pygments_lexer": "ipython3",
   "version": "3.7.7"
  }
 },
 "nbformat": 4,
 "nbformat_minor": 4
}
