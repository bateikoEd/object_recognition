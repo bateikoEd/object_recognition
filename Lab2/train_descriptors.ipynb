{
 "cells": [
  {
   "cell_type": "code",
   "execution_count": 46,
   "metadata": {},
   "outputs": [],
   "source": [
    "import cv2 \n",
    "import matplotlib.pyplot as plt\n",
    "import numpy as np\n",
    "import os\n",
    "from os import listdir\n",
    "from os.path import isfile, join\n",
    "from json import dump\n",
    "import time\n",
    "import pandas as pd\n",
    "%matplotlib inline"
   ]
  },
  {
   "cell_type": "code",
   "execution_count": 2,
   "metadata": {},
   "outputs": [],
   "source": [
    "def umat_to_mat(obj):\n",
    "    return cv2.UMat.get(obj)"
   ]
  },
  {
   "cell_type": "code",
   "execution_count": 37,
   "metadata": {},
   "outputs": [],
   "source": [
    "def get_metrics(path_directory, image_name, descriptor, keypoints_image_kernel, descriptors_image_kernel, matcher, ratio=0.75):\n",
    "    \n",
    "    image_path = f'{path_directory}/{image_name}'\n",
    "    \n",
    "    print(image_path)\n",
    "    metrics = {'ratio':ratio}\n",
    "    \n",
    "    # define start time\n",
    "    time_start = time.thread_time()\n",
    "    \n",
    "    image = cv2.imread(image_path)\n",
    "    metrics['pixels'] = image.shape[0] * image.shape[1]\n",
    "    image = cv2.UMat(image)\n",
    "    gray = cv2.cvtColor(image, cv2.COLOR_BGR2GRAY)\n",
    "    \n",
    "    keypoints_image, descriptors_image = descriptor.detectAndCompute(gray,None)\n",
    "    \n",
    "    # find matches\n",
    "    matches = matcher.knnMatch(descriptors_image_kernel, descriptors_image, k=2) # sift k = 2\n",
    "    \n",
    "    # define end time\n",
    "    time_end = time.thread_time()\n",
    "    metrics['thread_time'] = time_end - time_start\n",
    "    \n",
    "    # compute distance\n",
    "    good_matches = []\n",
    "    for m, n in matches:\n",
    "        if m.distance < ratio * n.distance:\n",
    "            good_matches.append(m)\n",
    "    \n",
    "    metrics['matches_good_ratio'] = len(good_matches) / np.array(matches)[:,1].shape[0]\n",
    "    \n",
    "    localization_errors_l1 = np.array([abs(m.distance - n.distance) for m, n in matches])\n",
    "    localization_errors_l2 = np.array([np.power(m.distance - n.distance, 2) for m, n in matches])\n",
    "    \n",
    "    metrics['localization_error_l1_mean'] = localization_errors_l1.mean()\n",
    "    metrics['localization_error_l2_mean'] = localization_errors_l2.mean()\n",
    "\n",
    "    \n",
    "    #-- Localize the object\n",
    "    obj = np.empty((len(good_matches),2), dtype=np.float32)\n",
    "    scene = np.empty((len(good_matches),2), dtype=np.float32)\n",
    "\n",
    "    for i in range(len(good_matches)):\n",
    "        #-- Get the keypoints from the good matches\n",
    "        obj[i,0] = keypoints_image_kernel[good_matches[i].queryIdx].pt[0]\n",
    "        obj[i,1] = keypoints_image_kernel[good_matches[i].queryIdx].pt[1]\n",
    "        scene[i,0] = keypoints_image[good_matches[i].trainIdx].pt[0]\n",
    "        scene[i,1] = keypoints_image[good_matches[i].trainIdx].pt[1]\n",
    "    \n",
    "    H, _ =  cv2.findHomography(obj, scene, cv2.RANSAC)\n",
    "    \n",
    "    metrics['loc_error_norm_of_homography_matrix'] = np.linalg.norm(H)\n",
    "    \n",
    "    return metrics"
   ]
  },
  {
   "cell_type": "code",
   "execution_count": 42,
   "metadata": {},
   "outputs": [],
   "source": [
    "def define_metrics(descriptor_name, directory_train_name, json_dump_name, ratio=0.75, saved_dump=True):\n",
    "    '''\n",
    "    descriptor_name - SIFT, AKAZE string format,\n",
    "    directory_train_name - string format name of directory,\n",
    "    json_dump_name - string format name of json_dump\n",
    "    '''\n",
    "    metrics_images = {}\n",
    "\n",
    "    \n",
    "    path_directory = os.path.abspath(os.getcwd())\n",
    "    path_directory_image = f'{path_directory}/{directory_train_name}'\n",
    "    \n",
    "    all_training_set = np.array([f for f in listdir(path_directory_image) if isfile(join(path_directory_image, f))])\n",
    "    all_training_set = np.sort(all_training_set)\n",
    "    \n",
    "    path_kernel_image = f'{path_directory_image}/{all_training_set[0]}'\n",
    "    \n",
    "    image_kernel = cv2.imread(path_kernel_image) \n",
    "    \n",
    "    # Turn on GPU\n",
    "    image_kernel = cv2.UMat(image_kernel)\n",
    "    \n",
    "    gray_image_kernel = cv2.cvtColor(image_kernel, cv2.COLOR_BGR2GRAY)\n",
    "    \n",
    "    \n",
    "    \n",
    "    if descriptor_name == 'sift':\n",
    "        print('sift')\n",
    "        descriptor = cv2.xfeatures2d.SIFT_create()\n",
    "        matcher = cv2.BFMatcher(cv2.NORM_L2, crossCheck=True)\n",
    "        \n",
    "    elif descriptor_name == 'akaze':\n",
    "        print('akaze')\n",
    "        descriptor = cv2.AKAZE_create()\n",
    "        matcher = cv2.DescriptorMatcher_create(cv2.DescriptorMatcher_BRUTEFORCE_HAMMING)\n",
    "\n",
    "    else:\n",
    "        pass\n",
    "    \n",
    "    keypoints_image_kernel, descriptors_image_kernel = descriptor.detectAndCompute(gray_image_kernel,None)\n",
    "    \n",
    "    for image_file_name in all_training_set[1:]:\n",
    "\n",
    "        metrics = get_metrics(path_directory_image, image_file_name, descriptor, keypoints_image_kernel, descriptors_image_kernel, matcher, ratio)\n",
    "        metrics_images[image_file_name] = metrics\n",
    "    \n",
    "    if saved_dump:\n",
    "        with open(f'{json_dump_name}.json', 'w') as f:\n",
    "            dump(metrics_images, f, indent=4)\n",
    "    \n",
    "    return metrics_images"
   ]
  },
  {
   "cell_type": "code",
   "execution_count": 120,
   "metadata": {
    "scrolled": true
   },
   "outputs": [
    {
     "name": "stdout",
     "output_type": "stream",
     "text": [
      "sift\n",
      "/home/eduard/gitRepo/object_recognition/Lab2/train_image/train_2.jpg\n",
      "/home/eduard/gitRepo/object_recognition/Lab2/train_image/train_3.jpg\n",
      "/home/eduard/gitRepo/object_recognition/Lab2/train_image/train_4.jpg\n",
      "/home/eduard/gitRepo/object_recognition/Lab2/train_image/train_5.jpg\n"
     ]
    },
    {
     "data": {
      "text/plain": [
       "{'train_2.jpg': {'ratio': 0.75,\n",
       "  'pixels': 6016000,\n",
       "  'thread_time': 4.348215057000004,\n",
       "  'matches_good_ratio': 0.004919723492028097,\n",
       "  'localization_error_l1_mean': 12.289054500470527,\n",
       "  'localization_error_l2_mean': 302.2123734754128,\n",
       "  'loc_error_norm_of_homography_matrix': 2300.6299602905597},\n",
       " 'train_3.jpg': {'ratio': 0.75,\n",
       "  'pixels': 1689600,\n",
       "  'thread_time': 1.1063516820000103,\n",
       "  'matches_good_ratio': 0.009992752815252536,\n",
       "  'localization_error_l1_mean': 14.039985614844237,\n",
       "  'localization_error_l2_mean': 418.4186197103274,\n",
       "  'loc_error_norm_of_homography_matrix': 710.8939954280316},\n",
       " 'train_4.jpg': {'ratio': 0.75,\n",
       "  'pixels': 298820,\n",
       "  'thread_time': 0.24630567000001236,\n",
       "  'matches_good_ratio': 0.003958077823614673,\n",
       "  'localization_error_l1_mean': 15.267432412517444,\n",
       "  'localization_error_l2_mean': 454.16609261278154,\n",
       "  'loc_error_norm_of_homography_matrix': 24.841221620378914},\n",
       " 'train_5.jpg': {'ratio': 0.75,\n",
       "  'pixels': 471447,\n",
       "  'thread_time': 0.36679137700001263,\n",
       "  'matches_good_ratio': 0.004069572973575649,\n",
       "  'localization_error_l1_mean': 15.324373105308897,\n",
       "  'localization_error_l2_mean': 449.8809855333928,\n",
       "  'loc_error_norm_of_homography_matrix': 586.7368097184401}}"
      ]
     },
     "execution_count": 120,
     "metadata": {},
     "output_type": "execute_result"
    }
   ],
   "source": [
    "descriptor_name='sift'\n",
    "directory_train_name='train_image'\n",
    "json_dump_name='eiffel'\n",
    "\n",
    "define_metrics(descriptor_name, directory_train_name, json_dump_name)"
   ]
  },
  {
   "cell_type": "code",
   "execution_count": 121,
   "metadata": {
    "scrolled": true
   },
   "outputs": [
    {
     "name": "stdout",
     "output_type": "stream",
     "text": [
      "akaze\n",
      "/home/eduard/gitRepo/object_recognition/Lab2/train_image/train_2.jpg\n",
      "/home/eduard/gitRepo/object_recognition/Lab2/train_image/train_3.jpg\n",
      "/home/eduard/gitRepo/object_recognition/Lab2/train_image/train_4.jpg\n",
      "/home/eduard/gitRepo/object_recognition/Lab2/train_image/train_5.jpg\n"
     ]
    },
    {
     "data": {
      "text/plain": [
       "{'train_2.jpg': {'ratio': 0.75,\n",
       "  'pixels': 6016000,\n",
       "  'thread_time': 2.8040812599999896,\n",
       "  'matches_good_ratio': 0.007232546459065796,\n",
       "  'localization_error_l1_mean': 5.547195714046543,\n",
       "  'localization_error_l2_mean': 60.43278084714549,\n",
       "  'loc_error_norm_of_homography_matrix': 2687.915785834188},\n",
       " 'train_3.jpg': {'ratio': 0.75,\n",
       "  'pixels': 1689600,\n",
       "  'thread_time': 0.6163975979999918,\n",
       "  'matches_good_ratio': 0.014799933031977231,\n",
       "  'localization_error_l1_mean': 6.627925665494726,\n",
       "  'localization_error_l2_mean': 92.49439142809308,\n",
       "  'loc_error_norm_of_homography_matrix': 728.8387020823884},\n",
       " 'train_4.jpg': {'ratio': 0.75,\n",
       "  'pixels': 298820,\n",
       "  'thread_time': 0.15738800799999808,\n",
       "  'matches_good_ratio': 0.004989117696300017,\n",
       "  'localization_error_l1_mean': 7.000100452034154,\n",
       "  'localization_error_l2_mean': 91.05548300686422,\n",
       "  'loc_error_norm_of_homography_matrix': 547.8982883279839},\n",
       " 'train_5.jpg': {'ratio': 0.75,\n",
       "  'pixels': 471447,\n",
       "  'thread_time': 0.17002884800000118,\n",
       "  'matches_good_ratio': 0.0051900217646074,\n",
       "  'localization_error_l1_mean': 7.103867403314917,\n",
       "  'localization_error_l2_mean': 93.62072660304705,\n",
       "  'loc_error_norm_of_homography_matrix': 511.72789385789855}}"
      ]
     },
     "execution_count": 121,
     "metadata": {},
     "output_type": "execute_result"
    }
   ],
   "source": [
    "descriptor_name='akaze'\n",
    "directory_train_name='train_image'\n",
    "json_dump_name='eiffel_akaze'\n",
    "\n",
    "define_metrics(descriptor_name, directory_train_name, json_dump_name)"
   ]
  },
  {
   "cell_type": "markdown",
   "metadata": {},
   "source": [
    "# Working with metrics"
   ]
  },
  {
   "cell_type": "code",
   "execution_count": 62,
   "metadata": {},
   "outputs": [],
   "source": [
    "file_name_json_sift = 'eiffel.json'\n",
    "file_name_json_akaze = 'eiffel_akaze.json'\n",
    "metrices_sift = pd.read_json(file_name_json_sift)\n",
    "metrices_akaze = pd.read_json(file_name_json_akaze)\n",
    "\n",
    "metrices_sift = metrices_sift.T\n",
    "metrices_akaze = metrices_akaze.T"
   ]
  },
  {
   "cell_type": "code",
   "execution_count": 63,
   "metadata": {},
   "outputs": [
    {
     "data": {
      "text/html": [
       "<div>\n",
       "<style scoped>\n",
       "    .dataframe tbody tr th:only-of-type {\n",
       "        vertical-align: middle;\n",
       "    }\n",
       "\n",
       "    .dataframe tbody tr th {\n",
       "        vertical-align: top;\n",
       "    }\n",
       "\n",
       "    .dataframe thead th {\n",
       "        text-align: right;\n",
       "    }\n",
       "</style>\n",
       "<table border=\"1\" class=\"dataframe\">\n",
       "  <thead>\n",
       "    <tr style=\"text-align: right;\">\n",
       "      <th></th>\n",
       "      <th>ratio</th>\n",
       "      <th>pixels</th>\n",
       "      <th>thread_time</th>\n",
       "      <th>matches_good_ratio</th>\n",
       "      <th>localization_error_l1_mean</th>\n",
       "      <th>localization_error_l2_mean</th>\n",
       "      <th>loc_error_norm_of_homography_matrix</th>\n",
       "    </tr>\n",
       "  </thead>\n",
       "  <tbody>\n",
       "    <tr>\n",
       "      <th>train_2.jpg</th>\n",
       "      <td>0.75</td>\n",
       "      <td>6016000.0</td>\n",
       "      <td>4.470381</td>\n",
       "      <td>0.004920</td>\n",
       "      <td>12.289055</td>\n",
       "      <td>302.212373</td>\n",
       "      <td>2300.629960</td>\n",
       "    </tr>\n",
       "    <tr>\n",
       "      <th>train_3.jpg</th>\n",
       "      <td>0.75</td>\n",
       "      <td>1689600.0</td>\n",
       "      <td>1.100838</td>\n",
       "      <td>0.009993</td>\n",
       "      <td>14.039986</td>\n",
       "      <td>418.418620</td>\n",
       "      <td>710.893995</td>\n",
       "    </tr>\n",
       "    <tr>\n",
       "      <th>train_4.jpg</th>\n",
       "      <td>0.75</td>\n",
       "      <td>298820.0</td>\n",
       "      <td>0.275489</td>\n",
       "      <td>0.003958</td>\n",
       "      <td>15.267432</td>\n",
       "      <td>454.166093</td>\n",
       "      <td>24.841222</td>\n",
       "    </tr>\n",
       "    <tr>\n",
       "      <th>train_5.jpg</th>\n",
       "      <td>0.75</td>\n",
       "      <td>471447.0</td>\n",
       "      <td>0.288205</td>\n",
       "      <td>0.004070</td>\n",
       "      <td>15.324373</td>\n",
       "      <td>449.880986</td>\n",
       "      <td>586.736810</td>\n",
       "    </tr>\n",
       "  </tbody>\n",
       "</table>\n",
       "</div>"
      ],
      "text/plain": [
       "             ratio     pixels  thread_time  matches_good_ratio  \\\n",
       "train_2.jpg   0.75  6016000.0     4.470381            0.004920   \n",
       "train_3.jpg   0.75  1689600.0     1.100838            0.009993   \n",
       "train_4.jpg   0.75   298820.0     0.275489            0.003958   \n",
       "train_5.jpg   0.75   471447.0     0.288205            0.004070   \n",
       "\n",
       "             localization_error_l1_mean  localization_error_l2_mean  \\\n",
       "train_2.jpg                   12.289055                  302.212373   \n",
       "train_3.jpg                   14.039986                  418.418620   \n",
       "train_4.jpg                   15.267432                  454.166093   \n",
       "train_5.jpg                   15.324373                  449.880986   \n",
       "\n",
       "             loc_error_norm_of_homography_matrix  \n",
       "train_2.jpg                          2300.629960  \n",
       "train_3.jpg                           710.893995  \n",
       "train_4.jpg                            24.841222  \n",
       "train_5.jpg                           586.736810  "
      ]
     },
     "execution_count": 63,
     "metadata": {},
     "output_type": "execute_result"
    }
   ],
   "source": [
    "metrices_sift"
   ]
  },
  {
   "cell_type": "code",
   "execution_count": 64,
   "metadata": {},
   "outputs": [
    {
     "data": {
      "text/html": [
       "<div>\n",
       "<style scoped>\n",
       "    .dataframe tbody tr th:only-of-type {\n",
       "        vertical-align: middle;\n",
       "    }\n",
       "\n",
       "    .dataframe tbody tr th {\n",
       "        vertical-align: top;\n",
       "    }\n",
       "\n",
       "    .dataframe thead th {\n",
       "        text-align: right;\n",
       "    }\n",
       "</style>\n",
       "<table border=\"1\" class=\"dataframe\">\n",
       "  <thead>\n",
       "    <tr style=\"text-align: right;\">\n",
       "      <th></th>\n",
       "      <th>ratio</th>\n",
       "      <th>pixels</th>\n",
       "      <th>thread_time</th>\n",
       "      <th>matches_good_ratio</th>\n",
       "      <th>localization_error_l1_mean</th>\n",
       "      <th>localization_error_l2_mean</th>\n",
       "      <th>loc_error_norm_of_homography_matrix</th>\n",
       "    </tr>\n",
       "  </thead>\n",
       "  <tbody>\n",
       "    <tr>\n",
       "      <th>train_2.jpg</th>\n",
       "      <td>0.75</td>\n",
       "      <td>6016000.0</td>\n",
       "      <td>2.881529</td>\n",
       "      <td>0.007233</td>\n",
       "      <td>5.547196</td>\n",
       "      <td>60.432781</td>\n",
       "      <td>2687.915786</td>\n",
       "    </tr>\n",
       "    <tr>\n",
       "      <th>train_3.jpg</th>\n",
       "      <td>0.75</td>\n",
       "      <td>1689600.0</td>\n",
       "      <td>0.654526</td>\n",
       "      <td>0.014800</td>\n",
       "      <td>6.627926</td>\n",
       "      <td>92.494391</td>\n",
       "      <td>728.838702</td>\n",
       "    </tr>\n",
       "    <tr>\n",
       "      <th>train_4.jpg</th>\n",
       "      <td>0.75</td>\n",
       "      <td>298820.0</td>\n",
       "      <td>0.153896</td>\n",
       "      <td>0.004989</td>\n",
       "      <td>7.000100</td>\n",
       "      <td>91.055483</td>\n",
       "      <td>547.898288</td>\n",
       "    </tr>\n",
       "    <tr>\n",
       "      <th>train_5.jpg</th>\n",
       "      <td>0.75</td>\n",
       "      <td>471447.0</td>\n",
       "      <td>0.192513</td>\n",
       "      <td>0.005190</td>\n",
       "      <td>7.103867</td>\n",
       "      <td>93.620727</td>\n",
       "      <td>511.727894</td>\n",
       "    </tr>\n",
       "  </tbody>\n",
       "</table>\n",
       "</div>"
      ],
      "text/plain": [
       "             ratio     pixels  thread_time  matches_good_ratio  \\\n",
       "train_2.jpg   0.75  6016000.0     2.881529            0.007233   \n",
       "train_3.jpg   0.75  1689600.0     0.654526            0.014800   \n",
       "train_4.jpg   0.75   298820.0     0.153896            0.004989   \n",
       "train_5.jpg   0.75   471447.0     0.192513            0.005190   \n",
       "\n",
       "             localization_error_l1_mean  localization_error_l2_mean  \\\n",
       "train_2.jpg                    5.547196                   60.432781   \n",
       "train_3.jpg                    6.627926                   92.494391   \n",
       "train_4.jpg                    7.000100                   91.055483   \n",
       "train_5.jpg                    7.103867                   93.620727   \n",
       "\n",
       "             loc_error_norm_of_homography_matrix  \n",
       "train_2.jpg                          2687.915786  \n",
       "train_3.jpg                           728.838702  \n",
       "train_4.jpg                           547.898288  \n",
       "train_5.jpg                           511.727894  "
      ]
     },
     "execution_count": 64,
     "metadata": {},
     "output_type": "execute_result"
    }
   ],
   "source": [
    "metrices_akaze"
   ]
  },
  {
   "cell_type": "markdown",
   "metadata": {},
   "source": [
    "## Plots"
   ]
  },
  {
   "cell_type": "markdown",
   "metadata": {},
   "source": [
    "- **red** collor - SIFT \n",
    "- **blue** collor - AKAZE"
   ]
  },
  {
   "cell_type": "code",
   "execution_count": 100,
   "metadata": {},
   "outputs": [],
   "source": [
    "def create_curves_for_tabel(feature_1, feature_2, metrices_sift, metrices_akaze):\n",
    "    plt.plot(metrices_sift[feature_1], metrices_sift[feature_2], '-', color='red', label='SIFT')\n",
    "    plt.plot(metrices_akaze[feature_1], metrices_akaze[feature_2], '-', color='blue', label='AKAZE')\n",
    "    plt.xlabel(feature_1)\n",
    "    plt.ylabel(feature_2)\n",
    "    plt.grid(True)\n",
    "    plt.title(f'{feature_1} - {feature_2}')\n",
    "    plt.show()\n",
    "    plt.close()"
   ]
  },
  {
   "cell_type": "code",
   "execution_count": 113,
   "metadata": {},
   "outputs": [],
   "source": [
    "def create_curves_vectors(feature_1, feature_2, x_label, y_label_swift, y_label_akaze):\n",
    "    plt.plot(x_label, y_label_swift, '-', color='red', label='sift')\n",
    "    plt.plot(x_label, y_label_akaze, '-', color='blue', label='akaze')\n",
    "    plt.xlabel(feature_1)\n",
    "    plt.ylabel(feature_2)\n",
    "    plt.grid(True)\n",
    "    plt.title(f'{feature_1} - {feature_2}')\n",
    "        \n",
    "    plt.show()\n",
    "    plt.close()"
   ]
  },
  {
   "cell_type": "markdown",
   "metadata": {},
   "source": [
    "### Pixels - time\n",
    "- **red** collor - SIFT \n",
    "- **blue** collor - AKAZE"
   ]
  },
  {
   "cell_type": "code",
   "execution_count": 118,
   "metadata": {
    "scrolled": false
   },
   "outputs": [
    {
     "data": {
      "image/png": "[encoded data removed]",
      "text/plain": [
       "<Figure size 432x288 with 1 Axes>"
      ]
     },
     "metadata": {
      "needs_background": "light"
     },
     "output_type": "display_data"
    }
   ],
   "source": [
    "feature_1 = 'thread_time'\n",
    "feature_2 = 'pixels'\n",
    "create_curves_for_tabel(feature_1, feature_2, metrices_sift, metrices_akaze)"
   ]
  },
  {
   "cell_type": "markdown",
   "metadata": {},
   "source": [
    "### Picture - matches_good_ratio\n",
    "- **red** collor - SIFT \n",
    "- **blue** collor - AKAZE"
   ]
  },
  {
   "cell_type": "code",
   "execution_count": 114,
   "metadata": {},
   "outputs": [
    {
     "data": {
      "image/png": "[encoded data removed]",
      "text/plain": [
       "<Figure size 432x288 with 1 Axes>"
      ]
     },
     "metadata": {
      "needs_background": "light"
     },
     "output_type": "display_data"
    }
   ],
   "source": [
    "x_label = [x for x in range(1,metrices_sift.shape[0] + 1)]\n",
    "\n",
    "y_label_swift = metrices_sift['matches_good_ratio']\n",
    "y_label_akaze = metrices_akaze['matches_good_ratio']\n",
    "\n",
    "feature_1 = 'Pictures_number'\n",
    "feature_2 = 'matches_good_ratio'\n",
    "\n",
    "create_curves_vectors(feature_1, feature_2, x_label, y_label_swift, y_label_akaze)"
   ]
  },
  {
   "cell_type": "markdown",
   "metadata": {},
   "source": [
    "### Picture - thread_time\n",
    "- **red** collor - SIFT \n",
    "- **blue** collor - AKAZE"
   ]
  },
  {
   "cell_type": "code",
   "execution_count": 115,
   "metadata": {},
   "outputs": [
    {
     "data": {
      "image/png": "[encoded data removed]",
      "text/plain": [
       "<Figure size 432x288 with 1 Axes>"
      ]
     },
     "metadata": {
      "needs_background": "light"
     },
     "output_type": "display_data"
    }
   ],
   "source": [
    "x_label = [x for x in range(1,metrices_sift.shape[0] + 1)]\n",
    "\n",
    "y_label_swift = metrices_sift['thread_time']\n",
    "y_label_akaze = metrices_akaze['thread_time']\n",
    "\n",
    "feature_1 = 'Pictures_number'\n",
    "feature_2 = 'thread_time'\n",
    "\n",
    "create_curves_vectors(feature_1, feature_2, x_label, y_label_swift, y_label_akaze)"
   ]
  },
  {
   "cell_type": "markdown",
   "metadata": {},
   "source": [
    "### Picture - localization_error_l1_mean\n",
    "- **red** collor - SIFT \n",
    "- **blue** collor - AKAZE"
   ]
  },
  {
   "cell_type": "code",
   "execution_count": 116,
   "metadata": {},
   "outputs": [
    {
     "data": {
      "image/png": "[encoded data removed]",
      "text/plain": [
       "<Figure size 432x288 with 1 Axes>"
      ]
     },
     "metadata": {
      "needs_background": "light"
     },
     "output_type": "display_data"
    }
   ],
   "source": [
    "x_label = [x for x in range(1,metrices_sift.shape[0] + 1)]\n",
    "\n",
    "y_label_swift = metrices_sift['localization_error_l1_mean']\n",
    "y_label_akaze = metrices_akaze['localization_error_l1_mean']\n",
    "\n",
    "feature_1 = 'Pictures_number'\n",
    "feature_2 = 'localization_error_l1_mean'\n",
    "\n",
    "create_curves_vectors(feature_1, feature_2, x_label, y_label_swift, y_label_akaze)"
   ]
  },
  {
   "cell_type": "markdown",
   "metadata": {},
   "source": [
    "### Picture - localization_error_l2_mean\n",
    "- **red** collor - SIFT \n",
    "- **blue** collor - AKAZE"
   ]
  },
  {
   "cell_type": "code",
   "execution_count": 117,
   "metadata": {
    "scrolled": true
   },
   "outputs": [
    {
     "data": {
      "image/png": "[encoded data removed]",
      "text/plain": [
       "<Figure size 432x288 with 1 Axes>"
      ]
     },
     "metadata": {
      "needs_background": "light"
     },
     "output_type": "display_data"
    }
   ],
   "source": [
    "x_label = [x for x in range(1,metrices_sift.shape[0] + 1)]\n",
    "\n",
    "y_label_swift = metrices_sift['localization_error_l2_mean']\n",
    "y_label_akaze = metrices_akaze['localization_error_l2_mean']\n",
    "\n",
    "feature_1 = 'Pictures_number'\n",
    "feature_2 = 'localization_error_l2_mean'\n",
    "\n",
    "create_curves_vectors(feature_1, feature_2, x_label, y_label_swift, y_label_akaze)"
   ]
  },
  {
   "cell_type": "markdown",
   "metadata": {},
   "source": [
    "### Picture - loc_error_norm_of_homography_matrix\n",
    "- **red** collor - SIFT \n",
    "- **blue** collor - AKAZE"
   ]
  },
  {
   "cell_type": "code",
   "execution_count": 119,
   "metadata": {},
   "outputs": [
    {
     "data": {
      "image/png": "[encoded data removed]",
      "text/plain": [
       "<Figure size 432x288 with 1 Axes>"
      ]
     },
     "metadata": {
      "needs_background": "light"
     },
     "output_type": "display_data"
    }
   ],
   "source": [
    "x_label = [x for x in range(1,metrices_sift.shape[0] + 1)]\n",
    "\n",
    "y_label_swift = metrices_sift['loc_error_norm_of_homography_matrix']\n",
    "y_label_akaze = metrices_akaze['loc_error_norm_of_homography_matrix']\n",
    "\n",
    "feature_1 = 'Pictures_number'\n",
    "feature_2 = 'loc_error_norm_of_homography_matrix'\n",
    "\n",
    "create_curves_vectors(feature_1, feature_2, x_label, y_label_swift, y_label_akaze)"
   ]
  }
 ],
 "metadata": {
  "kernelspec": {
   "display_name": "object_recognition_cv",
   "language": "python",
   "name": "object_recognition_cv"
  },
  "language_info": {
   "codemirror_mode": {
    "name": "ipython",
    "version": 3
   },
   "file_extension": ".py",
   "mimetype": "text/x-python",
   "name": "python",
   "nbconvert_exporter": "python",
   "pygments_lexer": "ipython3",
   "version": "3.7.6"
  }
 },
 "nbformat": 4,
 "nbformat_minor": 4
}
